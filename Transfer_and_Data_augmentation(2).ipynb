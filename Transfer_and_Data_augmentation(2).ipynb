{
  "nbformat": 4,
  "nbformat_minor": 0,
  "metadata": {
    "colab": {
      "name": "Transfer and Data augmentation.ipynb",
      "provenance": [],
      "collapsed_sections": []
    },
    "kernelspec": {
      "name": "python3",
      "display_name": "Python 3"
    },
    "language_info": {
      "name": "python"
    },
    "accelerator": "GPU",
    "gpuClass": "standard"
  },
  "cells": [
    {
      "cell_type": "code",
      "execution_count": 44,
      "metadata": {
        "id": "AcA8VpIF6QL4"
      },
      "outputs": [],
      "source": [
        "import numpy as np\n",
        "import matplotlib.pyplot as plt\n",
        "\n"
      ]
    },
    {
      "cell_type": "code",
      "source": [
        "from tensorflow.keras.datasets import cifar10\n",
        "\n",
        "(all_train_images, all_train_labels), (test_images, test_labels) = cifar10.load_data()"
      ],
      "metadata": {
        "id": "peABEP1w6YN0"
      },
      "execution_count": 45,
      "outputs": []
    },
    {
      "cell_type": "code",
      "source": [
        "from sklearn.model_selection import train_test_split\n",
        "train_images, validation_images, train_labels, validation_labels = train_test_split(all_train_images,all_train_labels,test_size=0.2,shuffle=True)"
      ],
      "metadata": {
        "id": "3LQFdeZz5tfU"
      },
      "execution_count": 46,
      "outputs": []
    },
    {
      "cell_type": "code",
      "source": [
        "from keras.applications.vgg16 import VGG16\n",
        "\n",
        "conv_base = VGG16(weights='imagenet',\n",
        "                  include_top=False,\n",
        "                  input_shape=(32, 32, 3))"
      ],
      "metadata": {
        "id": "wvGDyxXE6YQa"
      },
      "execution_count": 47,
      "outputs": []
    },
    {
      "cell_type": "code",
      "source": [
        "conv_base.summary()"
      ],
      "metadata": {
        "colab": {
          "base_uri": "https://localhost:8080/"
        },
        "id": "5c2qc-e86YVO",
        "outputId": "d7d1e036-e165-4795-c58a-32076938c7d4"
      },
      "execution_count": 48,
      "outputs": [
        {
          "output_type": "stream",
          "name": "stdout",
          "text": [
            "Model: \"vgg16\"\n",
            "_________________________________________________________________\n",
            " Layer (type)                Output Shape              Param #   \n",
            "=================================================================\n",
            " input_4 (InputLayer)        [(None, 32, 32, 3)]       0         \n",
            "                                                                 \n",
            " block1_conv1 (Conv2D)       (None, 32, 32, 64)        1792      \n",
            "                                                                 \n",
            " block1_conv2 (Conv2D)       (None, 32, 32, 64)        36928     \n",
            "                                                                 \n",
            " block1_pool (MaxPooling2D)  (None, 16, 16, 64)        0         \n",
            "                                                                 \n",
            " block2_conv1 (Conv2D)       (None, 16, 16, 128)       73856     \n",
            "                                                                 \n",
            " block2_conv2 (Conv2D)       (None, 16, 16, 128)       147584    \n",
            "                                                                 \n",
            " block2_pool (MaxPooling2D)  (None, 8, 8, 128)         0         \n",
            "                                                                 \n",
            " block3_conv1 (Conv2D)       (None, 8, 8, 256)         295168    \n",
            "                                                                 \n",
            " block3_conv2 (Conv2D)       (None, 8, 8, 256)         590080    \n",
            "                                                                 \n",
            " block3_conv3 (Conv2D)       (None, 8, 8, 256)         590080    \n",
            "                                                                 \n",
            " block3_pool (MaxPooling2D)  (None, 4, 4, 256)         0         \n",
            "                                                                 \n",
            " block4_conv1 (Conv2D)       (None, 4, 4, 512)         1180160   \n",
            "                                                                 \n",
            " block4_conv2 (Conv2D)       (None, 4, 4, 512)         2359808   \n",
            "                                                                 \n",
            " block4_conv3 (Conv2D)       (None, 4, 4, 512)         2359808   \n",
            "                                                                 \n",
            " block4_pool (MaxPooling2D)  (None, 2, 2, 512)         0         \n",
            "                                                                 \n",
            " block5_conv1 (Conv2D)       (None, 2, 2, 512)         2359808   \n",
            "                                                                 \n",
            " block5_conv2 (Conv2D)       (None, 2, 2, 512)         2359808   \n",
            "                                                                 \n",
            " block5_conv3 (Conv2D)       (None, 2, 2, 512)         2359808   \n",
            "                                                                 \n",
            " block5_pool (MaxPooling2D)  (None, 1, 1, 512)         0         \n",
            "                                                                 \n",
            "=================================================================\n",
            "Total params: 14,714,688\n",
            "Trainable params: 14,714,688\n",
            "Non-trainable params: 0\n",
            "_________________________________________________________________\n"
          ]
        }
      ]
    },
    {
      "cell_type": "code",
      "source": [
        "from keras import models\n",
        "from keras import layers\n",
        "import tensorflow as tf\n",
        "model = models.Sequential()\n",
        "model.add(conv_base)\n",
        "model.add(layers.Flatten())\n",
        "model.add(layers.Dense(256, activation='relu'))\n",
        "model.add(layers.Dense(10, activation='softmax'))\n",
        "\n",
        "# conv_base.trainable = False"
      ],
      "metadata": {
        "id": "pHqMcXnJhWKY"
      },
      "execution_count": 49,
      "outputs": []
    },
    {
      "cell_type": "code",
      "source": [
        "conv_base.trainable = True\n",
        "\n",
        "set_trainable = False\n",
        "for layer in conv_base.layers:\n",
        "    if layer.name == 'block5_conv1':\n",
        "        set_trainable = True\n",
        "    if set_trainable:\n",
        "        layer.trainable = True\n",
        "    else:\n",
        "        layer.trainable = False\n",
        "\n"
      ],
      "metadata": {
        "id": "Z9QdJCKVL0sj"
      },
      "execution_count": 50,
      "outputs": []
    },
    {
      "cell_type": "code",
      "source": [
        "from tensorflow.keras.utils import to_categorical\n",
        "\n",
        "train_labels = to_categorical(train_labels)\n",
        "validation_labels = to_categorical(validation_labels)\n",
        "test_labels = to_categorical(test_labels)"
      ],
      "metadata": {
        "id": "aUL20mbYnN-x"
      },
      "execution_count": 51,
      "outputs": []
    },
    {
      "cell_type": "code",
      "source": [
        "print(train_images.shape , train_labels.shape)\n",
        "print(validation_images.shape , validation_labels.shape)\n",
        "print(test_images.shape , test_labels.shape)"
      ],
      "metadata": {
        "colab": {
          "base_uri": "https://localhost:8080/"
        },
        "id": "NPJJMqk8maLj",
        "outputId": "5037a64d-7434-46c6-9a4d-eb8c5347997d"
      },
      "execution_count": 52,
      "outputs": [
        {
          "output_type": "stream",
          "name": "stdout",
          "text": [
            "(40000, 32, 32, 3) (40000, 10)\n",
            "(10000, 32, 32, 3) (10000, 10)\n",
            "(10000, 32, 32, 3) (10000, 10)\n"
          ]
        }
      ]
    },
    {
      "cell_type": "code",
      "source": [
        "model.summary()"
      ],
      "metadata": {
        "colab": {
          "base_uri": "https://localhost:8080/"
        },
        "id": "Sq-dNAlXGYYO",
        "outputId": "508a4bb0-c0a0-4b2b-a9f8-893d6d5f34c9"
      },
      "execution_count": 53,
      "outputs": [
        {
          "output_type": "stream",
          "name": "stdout",
          "text": [
            "Model: \"sequential_3\"\n",
            "_________________________________________________________________\n",
            " Layer (type)                Output Shape              Param #   \n",
            "=================================================================\n",
            " vgg16 (Functional)          (None, 1, 1, 512)         14714688  \n",
            "                                                                 \n",
            " flatten_3 (Flatten)         (None, 512)               0         \n",
            "                                                                 \n",
            " dense_10 (Dense)            (None, 256)               131328    \n",
            "                                                                 \n",
            " dense_11 (Dense)            (None, 10)                2570      \n",
            "                                                                 \n",
            "=================================================================\n",
            "Total params: 14,848,586\n",
            "Trainable params: 7,213,322\n",
            "Non-trainable params: 7,635,264\n",
            "_________________________________________________________________\n"
          ]
        }
      ]
    },
    {
      "cell_type": "code",
      "source": [
        "from keras.preprocessing.image import ImageDataGenerator\n",
        "from keras.applications.imagenet_utils import preprocess_input\n",
        "from keras import optimizers\n",
        "\n",
        "train_datagen = ImageDataGenerator(\n",
        "      #rescale=1./255,\n",
        "      preprocessing_function=preprocess_input,\n",
        "      rotation_range=40,\n",
        "      width_shift_range=0.2,\n",
        "      height_shift_range=0.2,\n",
        "      shear_range=0.2,\n",
        "      zoom_range=0.2,\n",
        "      horizontal_flip=True,\n",
        "      fill_mode='nearest')\n",
        "\n",
        "# Note that the validation data should not be augmented!\n",
        "test_datagen = ImageDataGenerator(preprocessing_function=preprocess_input)#rescale=1./255) # Issue: https://github.com/fchollet/deep-learning-with-python-notebooks/issues/21\n",
        "\n",
        "train_generator = train_datagen.flow(\n",
        "        train_images,\n",
        "        train_labels,\n",
        "        batch_size=400)\n",
        "\n",
        "validation_generator = test_datagen.flow(\n",
        "        validation_images,\n",
        "        validation_labels,\n",
        "        batch_size=100)\n",
        "\n",
        "model.compile(loss='categorical_crossentropy',\n",
        "              optimizer=tf.keras.optimizers.RMSprop(learning_rate=0.0001),\n",
        "              metrics=['categorical_accuracy'])\n",
        "\n",
        "\n",
        "history = model.fit(\n",
        "      train_generator,\n",
        "      steps_per_epoch=100,\n",
        "      epochs=20,\n",
        "      validation_data=validation_generator,\n",
        "      validation_steps=100,\n",
        "      verbose=2)"
      ],
      "metadata": {
        "colab": {
          "base_uri": "https://localhost:8080/"
        },
        "id": "ZYqdtRzK6Ybk",
        "outputId": "a5ffec92-acd9-4bb0-c7fc-6eb48c4969f6"
      },
      "execution_count": 54,
      "outputs": [
        {
          "output_type": "stream",
          "name": "stdout",
          "text": [
            "Epoch 1/20\n",
            "100/100 - 24s - loss: 1.9634 - categorical_accuracy: 0.3713 - val_loss: 1.2783 - val_categorical_accuracy: 0.5706 - 24s/epoch - 240ms/step\n",
            "Epoch 2/20\n",
            "100/100 - 23s - loss: 1.2774 - categorical_accuracy: 0.5663 - val_loss: 0.9870 - val_categorical_accuracy: 0.6723 - 23s/epoch - 225ms/step\n",
            "Epoch 3/20\n",
            "100/100 - 23s - loss: 1.1187 - categorical_accuracy: 0.6187 - val_loss: 1.0531 - val_categorical_accuracy: 0.6654 - 23s/epoch - 226ms/step\n",
            "Epoch 4/20\n",
            "100/100 - 24s - loss: 1.0399 - categorical_accuracy: 0.6470 - val_loss: 0.8534 - val_categorical_accuracy: 0.7201 - 24s/epoch - 241ms/step\n",
            "Epoch 5/20\n",
            "100/100 - 24s - loss: 0.9880 - categorical_accuracy: 0.6602 - val_loss: 0.9881 - val_categorical_accuracy: 0.6754 - 24s/epoch - 237ms/step\n",
            "Epoch 6/20\n",
            "100/100 - 22s - loss: 0.9431 - categorical_accuracy: 0.6752 - val_loss: 0.8785 - val_categorical_accuracy: 0.7076 - 22s/epoch - 224ms/step\n",
            "Epoch 7/20\n",
            "100/100 - 23s - loss: 0.9054 - categorical_accuracy: 0.6892 - val_loss: 0.7681 - val_categorical_accuracy: 0.7471 - 23s/epoch - 226ms/step\n",
            "Epoch 8/20\n",
            "100/100 - 23s - loss: 0.8738 - categorical_accuracy: 0.6990 - val_loss: 0.7576 - val_categorical_accuracy: 0.7465 - 23s/epoch - 227ms/step\n",
            "Epoch 9/20\n",
            "100/100 - 22s - loss: 0.8439 - categorical_accuracy: 0.7096 - val_loss: 0.8547 - val_categorical_accuracy: 0.7193 - 22s/epoch - 224ms/step\n",
            "Epoch 10/20\n",
            "100/100 - 22s - loss: 0.8284 - categorical_accuracy: 0.7149 - val_loss: 0.8170 - val_categorical_accuracy: 0.7367 - 22s/epoch - 224ms/step\n",
            "Epoch 11/20\n",
            "100/100 - 23s - loss: 0.8069 - categorical_accuracy: 0.7193 - val_loss: 0.6871 - val_categorical_accuracy: 0.7729 - 23s/epoch - 231ms/step\n",
            "Epoch 12/20\n",
            "100/100 - 23s - loss: 0.7831 - categorical_accuracy: 0.7293 - val_loss: 0.7401 - val_categorical_accuracy: 0.7582 - 23s/epoch - 226ms/step\n",
            "Epoch 13/20\n",
            "100/100 - 23s - loss: 0.7655 - categorical_accuracy: 0.7351 - val_loss: 0.7355 - val_categorical_accuracy: 0.7560 - 23s/epoch - 225ms/step\n",
            "Epoch 14/20\n",
            "100/100 - 22s - loss: 0.7579 - categorical_accuracy: 0.7382 - val_loss: 0.7026 - val_categorical_accuracy: 0.7704 - 22s/epoch - 224ms/step\n",
            "Epoch 15/20\n",
            "100/100 - 23s - loss: 0.7339 - categorical_accuracy: 0.7461 - val_loss: 0.6943 - val_categorical_accuracy: 0.7735 - 23s/epoch - 227ms/step\n",
            "Epoch 16/20\n",
            "100/100 - 22s - loss: 0.7282 - categorical_accuracy: 0.7466 - val_loss: 0.7121 - val_categorical_accuracy: 0.7632 - 22s/epoch - 223ms/step\n",
            "Epoch 17/20\n",
            "100/100 - 22s - loss: 0.7169 - categorical_accuracy: 0.7512 - val_loss: 0.7252 - val_categorical_accuracy: 0.7600 - 22s/epoch - 224ms/step\n",
            "Epoch 18/20\n",
            "100/100 - 22s - loss: 0.6995 - categorical_accuracy: 0.7566 - val_loss: 0.7640 - val_categorical_accuracy: 0.7579 - 22s/epoch - 223ms/step\n",
            "Epoch 19/20\n",
            "100/100 - 22s - loss: 0.6918 - categorical_accuracy: 0.7592 - val_loss: 0.6809 - val_categorical_accuracy: 0.7827 - 22s/epoch - 223ms/step\n",
            "Epoch 20/20\n",
            "100/100 - 22s - loss: 0.6813 - categorical_accuracy: 0.7645 - val_loss: 0.6928 - val_categorical_accuracy: 0.7768 - 22s/epoch - 222ms/step\n"
          ]
        }
      ]
    },
    {
      "cell_type": "code",
      "source": [
        "acc = history.history['categorical_accuracy']\n",
        "val_acc = history.history['val_categorical_accuracy']\n",
        "loss = history.history['loss']\n",
        "val_loss = history.history['val_loss']\n",
        "\n",
        "epochs = range(len(acc))\n",
        "\n",
        "plt.plot(epochs, acc, 'bo', label='Training acc')\n",
        "plt.plot(epochs, val_acc, 'b', label='Validation acc')\n",
        "plt.title('Training and validation accuracy')\n",
        "plt.legend()\n",
        "\n",
        "plt.figure()\n",
        "\n",
        "plt.plot(epochs, loss, 'bo', label='Training loss')\n",
        "plt.plot(epochs, val_loss, 'b', label='Validation loss')\n",
        "plt.title('Training and validation loss')\n",
        "plt.legend()\n",
        "\n",
        "plt.show()\n",
        "\n"
      ],
      "metadata": {
        "colab": {
          "base_uri": "https://localhost:8080/",
          "height": 545
        },
        "id": "25v7UnGm6Ydx",
        "outputId": "55164785-c321-4997-83c8-470c21b857eb"
      },
      "execution_count": 55,
      "outputs": [
        {
          "output_type": "display_data",
          "data": {
            "text/plain": [
              "<Figure size 432x288 with 1 Axes>"
            ],
            "image/png": "[encoded data removed]"
          },
          "metadata": {
            "needs_background": "light"
          }
        },
        {
          "output_type": "display_data",
          "data": {
            "text/plain": [
              "<Figure size 432x288 with 1 Axes>"
            ],
            "image/png": "[encoded data removed]"
          },
          "metadata": {
            "needs_background": "light"
          }
        }
      ]
    },
    {
      "cell_type": "code",
      "source": [
        "test_generator = test_datagen.flow(\n",
        "        test_images,\n",
        "        test_labels,\n",
        "        batch_size=100)\n",
        "\n",
        "test_loss, test_acc = model.evaluate_generator(test_generator, steps=100)\n",
        "print('test acc:', test_acc)"
      ],
      "metadata": {
        "colab": {
          "base_uri": "https://localhost:8080/"
        },
        "id": "HnFqVB_kyfn3",
        "outputId": "2c8d1a1a-131f-49c8-de53-be4c3363305d"
      },
      "execution_count": 56,
      "outputs": [
        {
          "output_type": "stream",
          "name": "stderr",
          "text": [
            "/usr/local/lib/python3.7/dist-packages/ipykernel_launcher.py:6: UserWarning: `Model.evaluate_generator` is deprecated and will be removed in a future version. Please use `Model.evaluate`, which supports generators.\n",
            "  \n"
          ]
        },
        {
          "output_type": "stream",
          "name": "stdout",
          "text": [
            "test acc: 0.7670999765396118\n"
          ]
        }
      ]
    },
    {
      "cell_type": "code",
      "source": [
        "model.save(\"/content/sample_data/Model_TF_AUG\")"
      ],
      "metadata": {
        "id": "nRT9rqh7y6hq",
        "colab": {
          "base_uri": "https://localhost:8080/"
        },
        "outputId": "fde6ab7c-4eb7-4075-a28c-be170b9ff583"
      },
      "execution_count": 57,
      "outputs": [
        {
          "output_type": "stream",
          "name": "stdout",
          "text": [
            "INFO:tensorflow:Assets written to: /content/sample_data/Model_TF_AUG/assets\n"
          ]
        }
      ]
    },
    {
      "cell_type": "code",
      "source": [
        ""
      ],
      "metadata": {
        "id": "B205ws0Si7ka"
      },
      "execution_count": 57,
      "outputs": []
    }
  ]
}